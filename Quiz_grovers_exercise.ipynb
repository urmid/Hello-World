{
 "cells": [
  {
   "cell_type": "markdown",
   "metadata": {},
   "source": [
    "# Grover's search\n",
    "Author : Dhiraj Madan, Advisory Research Engineer, IBM Research India"
   ]
  },
  {
   "cell_type": "markdown",
   "metadata": {},
   "source": [
    " We will learn to implement Grover's search algorithm in this notebook. First lets import all the required libraries"
   ]
  },
  {
   "cell_type": "code",
   "execution_count": null,
   "metadata": {},
   "outputs": [],
   "source": [
    "import numpy as np\n",
    "# Importing standard Qiskit libraries\n",
    "from qiskit import QuantumCircuit, transpile, Aer, IBMQ\n",
    "from qiskit.tools.jupyter import *\n",
    "from qiskit.visualization import *\n",
    "#from ibm_quantum_widgets import *\n",
    "\n",
    "# Loading your IBM Q account(s)\n",
    "provider = IBMQ.load_account()"
   ]
  },
  {
   "cell_type": "code",
   "execution_count": null,
   "metadata": {},
   "outputs": [],
   "source": [
    "from qiskit import assemble\n",
    "import numpy as np\n",
    "import matplotlib.pyplot as plt"
   ]
  },
  {
   "cell_type": "markdown",
   "metadata": {},
   "source": [
    "We will work with 4 qubit data registers. Here we will search for an element amongs 0 to 2^4 -1 =15\n",
    "We will create an ancilla qubit to store |->. This will be needed to provide a phase."
   ]
  },
  {
   "cell_type": "code",
   "execution_count": null,
   "metadata": {},
   "outputs": [],
   "source": [
    "n=4\n",
    "grover_ckt = QuantumCircuit(n+1, n)\n",
    "marked = [1,0,1,1] # 1101 element is marked (lsb to msb)=>13"
   ]
  },
  {
   "cell_type": "markdown",
   "metadata": {},
   "source": [
    "Here is our oracle function. For a given n (number of data qubits), an integer marked (the index of marked element) and a circuit,\n",
    "it applies the following oracle $U_{marked}|x>|y> =|x>|y \\oplus f(x)>$. \n",
    "\n",
    "Here f(x) = 1 if  x is the marked index and 0 otherwise.\n"
   ]
  },
  {
   "cell_type": "code",
   "execution_count": null,
   "metadata": {},
   "outputs": [],
   "source": [
    "def apply_oracle(n,marked,ckt):\n",
    "    control0 = [i for i in range(n) if not marked[i]]\n",
    "    ckt.x(control0)\n",
    "    ckt.mct(list(range(n)),n)\n",
    "    ckt.x(control0)\n",
    "    ckt.draw()\n",
    "    \n",
    "    "
   ]
  },
  {
   "cell_type": "markdown",
   "metadata": {},
   "source": [
    "# Exercise 1\n",
    "You need to complete the function in the cell below to reflect about the unform superposition state. \n",
    " This should take a circuit object, and an integer n : The number of data qubits \n",
    " (excluding the ancilla qubit to store |-> state). The goal is to add operations to refect about the\n",
    " superposed state.\n",
    "As a step you need to be able to reflect about 0's. You will find the function mct helpful \n",
    "https://qiskit.org/documentation/stubs/qiskit.circuit.library.MCMT.html"
   ]
  },
  {
   "cell_type": "code",
   "execution_count": null,
   "metadata": {},
   "outputs": [],
   "source": [
    "\n",
    "def reflect_uniform(ckt,n):\n",
    "    pass\n",
    "    \n",
    "\n",
    "\n"
   ]
  },
  {
   "cell_type": "markdown",
   "metadata": {},
   "source": [
    "Let's start building the circuit now. We start by create a superposition of all states i.e.\n",
    "$|\\psi> = \\frac{1}{\\sqrt{2^n}} \\sum_{x\\in \\{0,1\\}^n} |x>$. \n",
    "Note that the final qubit needs to be placed in state |-> as required.  "
   ]
  },
  {
   "cell_type": "code",
   "execution_count": null,
   "metadata": {},
   "outputs": [],
   "source": [
    "grover_ckt.x(n)\n",
    "grover_ckt.barrier()\n",
    "grover_ckt.h(list(range(n+1)))\n",
    "\n",
    "\n"
   ]
  },
  {
   "cell_type": "code",
   "execution_count": null,
   "metadata": {},
   "outputs": [],
   "source": [
    "grover_ckt.draw()\n"
   ]
  },
  {
   "cell_type": "markdown",
   "metadata": {},
   "source": [
    "Let's run this circuit now. We will obtain the statevector and keep the first n qubits (leaving the |-> state ancilla qubit as is)."
   ]
  },
  {
   "cell_type": "code",
   "execution_count": null,
   "metadata": {},
   "outputs": [],
   "source": [
    "svsim = Aer.get_backend('statevector_simulator') # Tell Qiskit how to simulate our circuit\n",
    "qobj = assemble(grover_ckt)     # Create a Qobj from the circuit for the simulator to run\n",
    "result = svsim.run(qobj).result() # Do the simulation and return the result\n",
    "statevector = result.data()['statevector']\n",
    "statevector = statevector[:2**n]"
   ]
  },
  {
   "cell_type": "markdown",
   "metadata": {},
   "source": [
    "Let's plot this state vector on a 2 d plane spanned by the marked element state |a> and the superposition of unmarked states |e>. "
   ]
  },
  {
   "cell_type": "code",
   "execution_count": null,
   "metadata": {},
   "outputs": [],
   "source": [
    "marked = [1,0,1,1] # Corresponds to integer 1101 in binary => 13\n",
    "ket_a = np.zeros(2**n)\n",
    "ket_a[13] =1\n",
    "ket_e = (np.ones(2**n) - ket_a)/np.sqrt(2**n -1)\n",
    "\n"
   ]
  },
  {
   "cell_type": "code",
   "execution_count": null,
   "metadata": {},
   "outputs": [],
   "source": [
    "def get_projection(psi,e,a ):\n",
    "    proj =  [np.real(np.vdot(e,psi)), np.real(np.vdot(a,psi))]\n",
    "    return proj\n",
    "\n",
    "def plt_vector(proj, axes =[0.0,1.0,0.0,1.0]):\n",
    "    x_pos = 0\n",
    "    y_pos = 0\n",
    "    x_direct = proj[0]\n",
    "    y_direct = proj[1]\n",
    "\n",
    "    # Creating plot\n",
    "    fig, ax = plt.subplots()\n",
    "    ax.quiver(x_pos, y_pos, x_direct, y_direct,scale=1.0)\n",
    "\n",
    "    ax.axis(axes)\n",
    "\n",
    "    # show plot\n",
    "    plt.show()"
   ]
  },
  {
   "cell_type": "code",
   "execution_count": null,
   "metadata": {},
   "outputs": [],
   "source": [
    "proj = get_projection(statevector, ket_e, ket_a)\n",
    "plt_vector(proj)"
   ]
  },
  {
   "cell_type": "markdown",
   "metadata": {},
   "source": [
    "Now lets add the phase oracle which reflects the state about |e>."
   ]
  },
  {
   "cell_type": "code",
   "execution_count": null,
   "metadata": {},
   "outputs": [],
   "source": [
    "#grover_ckt.append(oracle, list(range(n+1)))\n",
    "apply_oracle(4,marked,grover_ckt)\n",
    "grover_ckt.barrier()"
   ]
  },
  {
   "cell_type": "markdown",
   "metadata": {},
   "source": [
    "This is how the circuit looks now."
   ]
  },
  {
   "cell_type": "code",
   "execution_count": null,
   "metadata": {},
   "outputs": [],
   "source": [
    "grover_ckt.draw()"
   ]
  },
  {
   "cell_type": "markdown",
   "metadata": {},
   "source": [
    "Now we reflect about the unform state. We use the function you completed as part of the exercise. "
   ]
  },
  {
   "cell_type": "code",
   "execution_count": null,
   "metadata": {},
   "outputs": [],
   "source": [
    "reflect_uniform(grover_ckt,n)"
   ]
  },
  {
   "cell_type": "code",
   "execution_count": null,
   "metadata": {},
   "outputs": [],
   "source": [
    "grover_ckt.barrier()\n",
    "grover_ckt.draw()"
   ]
  },
  {
   "cell_type": "markdown",
   "metadata": {},
   "source": [
    "Now we run the circuit again and replot the state vector. Observe that it indeed gets rotate colckwise towards the marked state |a>"
   ]
  },
  {
   "cell_type": "code",
   "execution_count": null,
   "metadata": {},
   "outputs": [],
   "source": [
    "svsim = Aer.get_backend('statevector_simulator') # Tell Qiskit how to simulate our circuit\n",
    "qobj = assemble(grover_ckt)     # Create a Qobj from the circuit for the simulator to run\n",
    "result = svsim.run(qobj).result() # Do the simulation and return the result\n",
    "statevector = result.data()['statevector']\n",
    "\n",
    "statevector = statevector[:2**n]\n",
    "proj = get_projection(statevector, ket_e, ket_a)\n",
    "plt_vector(proj)"
   ]
  },
  {
   "cell_type": "markdown",
   "metadata": {},
   "source": [
    "Lets do another step of phase oracle followed by reflection about uniform."
   ]
  },
  {
   "cell_type": "code",
   "execution_count": null,
   "metadata": {},
   "outputs": [],
   "source": [
    "apply_oracle(4,marked,grover_ckt)\n",
    "\n",
    "grover_ckt.barrier()\n",
    "reflect_uniform(grover_ckt,n)\n",
    "grover_ckt.barrier()\n"
   ]
  },
  {
   "cell_type": "code",
   "execution_count": null,
   "metadata": {},
   "outputs": [],
   "source": [
    "grover_ckt.draw()"
   ]
  },
  {
   "cell_type": "code",
   "execution_count": null,
   "metadata": {},
   "outputs": [],
   "source": [
    "svsim = Aer.get_backend('statevector_simulator') # Tell Qiskit how to simulate our circuit\n",
    "qobj = assemble(grover_ckt)     # Create a Qobj from the circuit for the simulator to run\n",
    "result = svsim.run(qobj).result() # Do the simulation and return the result\n",
    "statevector = result.data()['statevector']\n",
    "\n",
    "statevector = statevector[:2**n]\n",
    "proj = get_projection(statevector, ket_e, ket_a)\n",
    "plt_vector(proj)"
   ]
  },
  {
   "cell_type": "markdown",
   "metadata": {},
   "source": [
    "We observe that it indeed rotates clockwise towards |a>. Lets see when we repeat the 2 steps again."
   ]
  },
  {
   "cell_type": "code",
   "execution_count": null,
   "metadata": {},
   "outputs": [],
   "source": [
    "apply_oracle(4,marked,grover_ckt)\n",
    "\n",
    "grover_ckt.barrier()\n",
    "reflect_uniform(grover_ckt,n)\n",
    "grover_ckt.barrier()\n",
    "grover_ckt.draw()\n"
   ]
  },
  {
   "cell_type": "code",
   "execution_count": null,
   "metadata": {},
   "outputs": [],
   "source": [
    "svsim = Aer.get_backend('statevector_simulator') # Tell Qiskit how to simulate our circuit\n",
    "qobj = assemble(grover_ckt)     # Create a Qobj from the circuit for the simulator to run\n",
    "result = svsim.run(qobj).result() # Do the simulation and return the result\n",
    "statevector = result.data()['statevector']\n",
    "\n",
    "statevector = statevector[:2**n]\n",
    "proj = get_projection(statevector, ket_e, ket_a)\n",
    "plt_vector(proj, axes = [-1.0,1.0,-1.0,1.0])"
   ]
  },
  {
   "cell_type": "markdown",
   "metadata": {},
   "source": [
    "Now we observe that statevector falls into the second quadrant. At this point further rotations will not help much."
   ]
  },
  {
   "cell_type": "markdown",
   "metadata": {},
   "source": [
    "# Exercise 2.1 \n",
    "Now we compute the theoretical number of rotations which maximize the angle keeping statevector in quadrant I. First compute the initial angle  $\\theta_0$. Store it in variable theta0."
   ]
  },
  {
   "cell_type": "code",
   "execution_count": null,
   "metadata": {},
   "outputs": [],
   "source": [
    "theta0 = \n",
    "theta0"
   ]
  },
  {
   "cell_type": "markdown",
   "metadata": {},
   "source": [
    "# Exercise 2.2\n",
    "Each rotation increases this by $2 \\theta_0$. After T rotations it is $(2T+1)\\theta_0$. You need to find the largest such integer T so that it remains in quadrant I. Store it in variable T ."
   ]
  },
  {
   "cell_type": "code",
   "execution_count": null,
   "metadata": {},
   "outputs": [],
   "source": [
    "T = \n",
    "T"
   ]
  },
  {
   "cell_type": "markdown",
   "metadata": {},
   "source": [
    "Now to complete the story we create a new circuit and rotate preciely by number of times given bt T. "
   ]
  },
  {
   "cell_type": "code",
   "execution_count": null,
   "metadata": {},
   "outputs": [],
   "source": [
    "n=4\n",
    "grover_ckt = QuantumCircuit(n+1, n)\n",
    "marked = [1,0,1,1] # 1101 element is marked (lsb to msb)=>13\n",
    "grover_ckt.x(n)\n",
    "grover_ckt.barrier()\n",
    "grover_ckt.h(list(range(n+1)))\n",
    "grover_ckt.barrier()\n",
    "\n",
    "for _ in range(int(np.floor(T))):\n",
    "    apply_oracle(4,marked,grover_ckt)\n",
    "\n",
    "    grover_ckt.barrier()\n",
    "    reflect_uniform(grover_ckt,n)\n",
    "    grover_ckt.barrier()\n",
    "\n",
    "for j in range(n):\n",
    "    grover_ckt.measure(j,j)\n"
   ]
  },
  {
   "cell_type": "code",
   "execution_count": null,
   "metadata": {},
   "outputs": [],
   "source": [
    "grover_ckt.draw()"
   ]
  },
  {
   "cell_type": "code",
   "execution_count": null,
   "metadata": {},
   "outputs": [],
   "source": [
    "sim = Aer.get_backend('qasm_simulator') # Tell Qiskit how to simulate our circuit\n",
    "qobj = assemble(grover_ckt)     # Create a Qobj from the circuit for the simulator to run\n",
    "result = sim.run(qobj).result() # Do the simulation and return the result"
   ]
  },
  {
   "cell_type": "code",
   "execution_count": null,
   "metadata": {},
   "outputs": [],
   "source": [
    "result"
   ]
  },
  {
   "cell_type": "code",
   "execution_count": null,
   "metadata": {},
   "outputs": [],
   "source": [
    "counts = result.get_counts(grover_ckt)\n"
   ]
  },
  {
   "cell_type": "code",
   "execution_count": null,
   "metadata": {},
   "outputs": [],
   "source": [
    "plot_histogram(counts)\n"
   ]
  },
  {
   "cell_type": "markdown",
   "metadata": {},
   "source": [
    "# Concluding remarks and points to ponder\n",
    "We see that the above plot has highest measured probability for marked index i.e. 13 ( or 1101).\n",
    "This completes the implementation of Grover's search for a single marked element. Here are a few more points to ponder about for future :-\n",
    "1. What happens when there are more than 1 marked elements. How will the algorithm change. What is the initial angle and rotation in each step.\n",
    "2. What if you dont know the number of marked elements. What will be the modfications needed ?"
   ]
  },
  {
   "cell_type": "markdown",
   "metadata": {},
   "source": [
    "# References \n",
    "1. L. K. Grover (1996), \"A fast quantum mechanical algorithm for database search\", Proceedings of the 28th Annual ACM Symposium on the Theory of Computing (STOC 1996), doi:10.1145/237814.237866, arXiv:quant-ph/9605043\n",
    "\n",
    "1. I. Chuang & M. Nielsen, \"Quantum Computation and Quantum Information\", Cambridge: Cambridge University Press, 2000.\n",
    "\n",
    "1. Qiskit Textbook : https://qiskit.org/textbook/ch-algorithms/grover.html\n"
   ]
  },
  {
   "cell_type": "code",
   "execution_count": null,
   "metadata": {},
   "outputs": [],
   "source": []
  }
 ],
 "metadata": {
  "kernelspec": {
   "display_name": "qiskit",
   "language": "python",
   "name": "qiskit"
  },
  "language_info": {
   "codemirror_mode": {
    "name": "ipython",
    "version": 3
   },
   "file_extension": ".py",
   "mimetype": "text/x-python",
   "name": "python",
   "nbconvert_exporter": "python",
   "pygments_lexer": "ipython3",
   "version": "3.7.6"
  }
 },
 "nbformat": 4,
 "nbformat_minor": 5
}
